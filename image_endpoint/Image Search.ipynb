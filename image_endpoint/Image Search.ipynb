{
 "cells": [
  {
   "cell_type": "markdown",
   "metadata": {},
   "source": [
    "# URL Params for the Image-Specific Endpoint"
   ]
  },
  {
   "cell_type": "markdown",
   "metadata": {},
   "source": [
    "Make sure to check out the documentation [here]()."
   ]
  },
  {
   "cell_type": "markdown",
   "metadata": {},
   "source": [
    "If you've used the Bing Search APIs before, you may be familiar with the `responseFilter=Images` URL parameter. This is useful if you **only** have access to the websearch endpoint. \n",
    "\n",
    "However, if you have access to the image endpoint, you can use a much richer set of filters to get the pictures you're looking for & get much richer metadata."
   ]
  },
  {
   "cell_type": "markdown",
   "metadata": {},
   "source": [
    "# Index\n",
    "- [Setup](#Setup)\n",
    "- [Exploring params of the Image-Specific search endpoint](#Exploring-params-of-the-Image-Specific-search-endpoint)\n",
    "- [Practice](#Practice)"
   ]
  },
  {
   "cell_type": "markdown",
   "metadata": {},
   "source": [
    "## Setup"
   ]
  },
  {
   "cell_type": "code",
   "execution_count": 1,
   "metadata": {},
   "outputs": [],
   "source": [
    "import os\n",
    "import requests\n",
    "from IPython.display import Image\n",
    "from pprint import pprint"
   ]
  },
  {
   "cell_type": "code",
   "execution_count": 2,
   "metadata": {},
   "outputs": [],
   "source": [
    "API_KEY = os.environ.get('BING_KEY', default='ENTER YOUR API KEY HERE IF YOU DIDNT SET BING_KEY')"
   ]
  },
  {
   "cell_type": "markdown",
   "metadata": {},
   "source": [
    "Double check that the cell below prints you Bing API key:"
   ]
  },
  {
   "cell_type": "code",
   "execution_count": 36,
   "metadata": {},
   "outputs": [],
   "source": [
    "print(API_KEY)"
   ]
  },
  {
   "cell_type": "markdown",
   "metadata": {},
   "source": [
    "Some setup:"
   ]
  },
  {
   "cell_type": "code",
   "execution_count": 4,
   "metadata": {},
   "outputs": [],
   "source": [
    "ENDPOINT = ' https://api.cognitive.microsoft.com/bing/v7.0/images/search?'\n",
    "HEADERS = {\n",
    "    'Ocp-Apim-Subscription-Key' : API_KEY\n",
    "}\n",
    "STARTING_PARAMS = {\n",
    "    \"q\" : None,\n",
    "    \"mkt\" : \"en-US\",\n",
    "    \"offset\" : \"0\",\n",
    "  }"
   ]
  },
  {
   "cell_type": "code",
   "execution_count": 5,
   "metadata": {},
   "outputs": [],
   "source": [
    "# Common accross all notebooks - \n",
    "def call_api(query, session=None, custom_params=None):\n",
    "    sesh = session\n",
    "    if not session:\n",
    "        sesh = requests.Session()\n",
    "        sesh.params = PARAMS\n",
    "        sesh.params.update({'q' : query})\n",
    "        sesh.headers = HEADERS\n",
    "    if custom_params:\n",
    "        sesh.params.update(custom_params)\n",
    "    return sesh.get(ENDPOINT)\n",
    "\n",
    "def handle_response(resp):\n",
    "    assert resp.status_code == 200\n",
    "    return resp.json()"
   ]
  },
  {
   "cell_type": "code",
   "execution_count": 6,
   "metadata": {},
   "outputs": [],
   "source": [
    "# Common accross image-centric notebooks - \n",
    "\n",
    "def extract_with_args(response_json, *args):\n",
    "    return [[j[i] for i in args] for j in response_json['value']]\n",
    "\n",
    "def extract_with_single_arg(response_json, arg):\n",
    "    return [i[arg] for i in response_json['value']]\n",
    "\n",
    "def extract_with_deep_arg(response_json, arg_parent, arg):\n",
    "    return [i[arg_parent][arg] for i in response_json['value']]\n",
    "\n",
    "def extract_img_urls(response_json):\n",
    "    return [i['contentUrl'] for i in response_json['value']]\n",
    "\n",
    "def extract_img_entries(response_json):\n",
    "    return [i for i in response_json['value']]\n",
    "\n",
    "def extract_img_dimens(response_json):\n",
    "    return [(i['height'], i['width']) for i in response_json['value']]\n",
    "\n",
    "def display(img):\n",
    "    return Image(url=img)"
   ]
  },
  {
   "cell_type": "markdown",
   "metadata": {},
   "source": [
    "## Exploring params of the Image-Specific search endpoint"
   ]
  },
  {
   "cell_type": "markdown",
   "metadata": {},
   "source": [
    "#### Ex 1: Square drawing of a red car that's free to share commercially"
   ]
  },
  {
   "cell_type": "markdown",
   "metadata": {},
   "source": [
    "First, let's get a copy of our default URL param dictionary, & just do a normal search for images of red cars."
   ]
  },
  {
   "cell_type": "code",
   "execution_count": 7,
   "metadata": {},
   "outputs": [],
   "source": [
    "q = 'red car'\n",
    "PARAMS = STARTING_PARAMS.copy()"
   ]
  },
  {
   "cell_type": "markdown",
   "metadata": {},
   "source": [
    "Simple enough. The functions above will ask for pictures of `'red car'`s and give us back some URLs. Let's create a few functions that help us tie the three helper functions above together:"
   ]
  },
  {
   "cell_type": "code",
   "execution_count": 8,
   "metadata": {},
   "outputs": [],
   "source": [
    "def get_json_from_bing(q, session=None, custom_params=None):\n",
    "    resp = call_api(q, session=session, custom_params=custom_params)\n",
    "    json = handle_response(resp)\n",
    "    return json\n",
    "\n",
    "def get_metadata(q, session=None, custom_params=None, metadata_types=()):\n",
    "    json = get_json_from_bing(q, session=session, custom_params=custom_params)\n",
    "    if len(metadata_types) == 1:\n",
    "        return extract_with_single_arg(json, metadata_types[0])\n",
    "    return extract_with_args(json, *metadata_types)\n",
    "    \n",
    "def get_images(q, session=None, custom_params=None):\n",
    "    json = get_json_from_bing(q, session=session, custom_params=custom_params)\n",
    "    return extract_img_urls(json)"
   ]
  },
  {
   "cell_type": "markdown",
   "metadata": {},
   "source": [
    "Now it's easy for us to get images from Bing using a simple search term:"
   ]
  },
  {
   "cell_type": "code",
   "execution_count": 9,
   "metadata": {},
   "outputs": [],
   "source": [
    "red_car_json = extract_img_entries(get_json_from_bing(q))\n",
    "images = get_images(q)"
   ]
  },
  {
   "cell_type": "markdown",
   "metadata": {},
   "source": [
    "And voila!"
   ]
  },
  {
   "cell_type": "code",
   "execution_count": 10,
   "metadata": {},
   "outputs": [
    {
     "data": {
      "text/html": [
       "<img src=\"https://usercontent2.hubstatic.com/14028087_f1024.jpg\"/>"
      ],
      "text/plain": [
       "<IPython.core.display.Image object>"
      ]
     },
     "execution_count": 10,
     "metadata": {},
     "output_type": "execute_result"
    }
   ],
   "source": [
    "display(images[0])"
   ]
  },
  {
   "cell_type": "markdown",
   "metadata": {},
   "source": [
    "And here's the full response json entry  that we're extracting this image url from:"
   ]
  },
  {
   "cell_type": "code",
   "execution_count": 11,
   "metadata": {},
   "outputs": [
    {
     "name": "stdout",
     "output_type": "stream",
     "text": [
      "{'accentColor': 'BF0C0C',\n",
      " 'contentSize': '67929 B',\n",
      " 'contentUrl': 'https://img.huffingtonpost.com/asset/598cc71515000084208b6139.jpg?ops=scalefit_820_noupscale',\n",
      " 'datePublished': '2019-03-24T20:20:00.0000000Z',\n",
      " 'encodingFormat': 'jpeg',\n",
      " 'height': 544,\n",
      " 'hostPageDisplayUrl': 'https://www.huffingtonpost.com/entry/negative-body-image-and-the-red-car-syndrome_us...',\n",
      " 'hostPageUrl': 'https://www.huffingtonpost.com/entry/negative-body-image-and-the-red-car-syndrome_us_598cc58be4b0caa1687a5eb6',\n",
      " 'imageId': '2E1DF39CD461570C0396619E0162BE5499B0339E',\n",
      " 'imageInsightsToken': 'ccid_QMiV/e2C*mid_2E1DF39CD461570C0396619E0162BE5499B0339E*simid_608055716015837139*thid_OIP.QMiV!_e2C9Nw6PfmN8n2PfgHaE6',\n",
      " 'insightsMetadata': {'availableSizesCount': 7, 'pagesIncludingCount': 9},\n",
      " 'isFamilyFriendly': True,\n",
      " 'name': 'Negative Body Image and ‘The Red Car Syndrome’ | HuffPost',\n",
      " 'thumbnail': {'height': 314, 'width': 474},\n",
      " 'thumbnailUrl': 'https://tse3.mm.bing.net/th?id=OIP.QMiV_e2C9Nw6PfmN8n2PfgHaE6&pid=Api',\n",
      " 'webSearchUrl': 'https://www.bing.com/images/search?view=detailv2&FORM=OIIRPO&q=red+car&id=2E1DF39CD461570C0396619E0162BE5499B0339E&simid=608055716015837139',\n",
      " 'width': 820}\n"
     ]
    }
   ],
   "source": [
    "pprint(red_car_json[0])"
   ]
  },
  {
   "cell_type": "markdown",
   "metadata": {},
   "source": [
    "If you `display()` all the images in `images`, you'll notice that they are mostly real photos. Let's say we're looking for **drawings** of red cars."
   ]
  },
  {
   "cell_type": "markdown",
   "metadata": {},
   "source": [
    "Since we're using the image-specific API endpoint, we can pass in params like `'imageType'`"
   ]
  },
  {
   "cell_type": "code",
   "execution_count": 12,
   "metadata": {},
   "outputs": [],
   "source": [
    "new_param = {'imageType' : 'Clipart'}\n",
    "images = get_images(q, custom_params=new_param)"
   ]
  },
  {
   "cell_type": "code",
   "execution_count": 13,
   "metadata": {},
   "outputs": [
    {
     "data": {
      "text/html": [
       "<img src=\"http://www.clker.com/cliparts/a/4/D/r/O/l/red-car-bug-hi.png\"/>"
      ],
      "text/plain": [
       "<IPython.core.display.Image object>"
      ]
     },
     "execution_count": 13,
     "metadata": {},
     "output_type": "execute_result"
    }
   ],
   "source": [
    "display(images[0])"
   ]
  },
  {
   "cell_type": "markdown",
   "metadata": {},
   "source": [
    "Ok cool. But now let's pretend I'm looking for images to use in my website & need one that's a perfect square. "
   ]
  },
  {
   "cell_type": "code",
   "execution_count": 14,
   "metadata": {},
   "outputs": [],
   "source": [
    "new_new_param = {'aspect' : 'square'}\n",
    "images = get_images(q, custom_params=new_new_param)"
   ]
  },
  {
   "cell_type": "code",
   "execution_count": 15,
   "metadata": {},
   "outputs": [
    {
     "data": {
      "text/html": [
       "<img src=\"http://cliparts.co/cliparts/8i6/ogy/8i6ogybMT.svg\"/>"
      ],
      "text/plain": [
       "<IPython.core.display.Image object>"
      ]
     },
     "execution_count": 15,
     "metadata": {},
     "output_type": "execute_result"
    }
   ],
   "source": [
    "display(images[0])"
   ]
  },
  {
   "cell_type": "code",
   "execution_count": 16,
   "metadata": {},
   "outputs": [
    {
     "data": {
      "text/html": [
       "<img src=\"https://thumbs.dreamstime.com/z/person-driving-small-red-car-14821197.jpg\"/>"
      ],
      "text/plain": [
       "<IPython.core.display.Image object>"
      ]
     },
     "execution_count": 16,
     "metadata": {},
     "output_type": "execute_result"
    }
   ],
   "source": [
    "display(images[-1])"
   ]
  },
  {
   "cell_type": "markdown",
   "metadata": {},
   "source": [
    "Oh no! That last one looks super-proprietary. I'd like also to only find images that are ok for me to use commercially."
   ]
  },
  {
   "cell_type": "code",
   "execution_count": 18,
   "metadata": {},
   "outputs": [],
   "source": [
    "newer_params = {\n",
    "    'license' : 'ShareCommercially',\n",
    "    'color' : 'Red'\n",
    "}\n",
    "images = get_images(q, custom_params=newer_params)"
   ]
  },
  {
   "cell_type": "code",
   "execution_count": 19,
   "metadata": {},
   "outputs": [
    {
     "name": "stdout",
     "output_type": "stream",
     "text": [
      "https://upload.wikimedia.org/wikipedia/commons/2/2b/Black_Man_Driving_Car_GIF_Animation_Loop.gif\n"
     ]
    },
    {
     "data": {
      "text/html": [
       "<img src=\"https://upload.wikimedia.org/wikipedia/commons/2/2b/Black_Man_Driving_Car_GIF_Animation_Loop.gif\"/>"
      ],
      "text/plain": [
       "<IPython.core.display.Image object>"
      ]
     },
     "execution_count": 19,
     "metadata": {},
     "output_type": "execute_result"
    }
   ],
   "source": [
    "print(images[0])\n",
    "display(images[0])"
   ]
  },
  {
   "cell_type": "markdown",
   "metadata": {},
   "source": [
    "Note that, while useful for free-content aggregation, certain license params can reduce the number of relevant results."
   ]
  },
  {
   "cell_type": "markdown",
   "metadata": {},
   "source": [
    "For example, we're now looking for square & non-photographic images of `'red car'`s which their owners have manually tagged as \"free to use commercially.\" Let's see what happens when I try to add `{'size' : 'large'}`:"
   ]
  },
  {
   "cell_type": "code",
   "execution_count": 20,
   "metadata": {},
   "outputs": [],
   "source": [
    "newest_params = {\n",
    "    'size' : 'large'\n",
    "}\n",
    "images = get_images(q, custom_params=newest_params)"
   ]
  },
  {
   "cell_type": "code",
   "execution_count": 21,
   "metadata": {},
   "outputs": [
    {
     "data": {
      "text/html": [
       "<img src=\"http://opentextbc.ca/abealf1/wp-content/uploads/sites/83/2015/07/poppy-32120_640.png\"/>"
      ],
      "text/plain": [
       "<IPython.core.display.Image object>"
      ]
     },
     "execution_count": 21,
     "metadata": {},
     "output_type": "execute_result"
    }
   ],
   "source": [
    "display(images[0])"
   ]
  },
  {
   "cell_type": "markdown",
   "metadata": {},
   "source": [
    "## Practice"
   ]
  },
  {
   "cell_type": "markdown",
   "metadata": {},
   "source": [
    "#### Pictures of People"
   ]
  },
  {
   "cell_type": "markdown",
   "metadata": {},
   "source": [
    "Let's find large faceshots of people smiling."
   ]
  },
  {
   "cell_type": "code",
   "execution_count": 22,
   "metadata": {},
   "outputs": [],
   "source": [
    "q = 'smiling'\n",
    "PARAMS = STARTING_PARAMS.copy()"
   ]
  },
  {
   "cell_type": "code",
   "execution_count": 23,
   "metadata": {},
   "outputs": [],
   "source": [
    "new_params = {\n",
    "    'size' : 'Large',\n",
    "    'imageType' : 'Photo',\n",
    "    'imageContent' : 'Face' \n",
    "}"
   ]
  },
  {
   "cell_type": "code",
   "execution_count": 24,
   "metadata": {},
   "outputs": [],
   "source": [
    "images = get_images(q, custom_params=new_params)"
   ]
  },
  {
   "cell_type": "code",
   "execution_count": 25,
   "metadata": {},
   "outputs": [
    {
     "name": "stdout",
     "output_type": "stream",
     "text": [
      "http://primedental.files.wordpress.com/2012/01/man-smiling-in-black-shirt.jpg\n"
     ]
    },
    {
     "data": {
      "text/html": [
       "<img src=\"http://primedental.files.wordpress.com/2012/01/man-smiling-in-black-shirt.jpg\"/>"
      ],
      "text/plain": [
       "<IPython.core.display.Image object>"
      ]
     },
     "execution_count": 25,
     "metadata": {},
     "output_type": "execute_result"
    }
   ],
   "source": [
    "print(images[0])\n",
    "display(images[0])"
   ]
  },
  {
   "cell_type": "markdown",
   "metadata": {},
   "source": [
    "#### The Empire State Building"
   ]
  },
  {
   "cell_type": "markdown",
   "metadata": {},
   "source": [
    "Let's find a tall photo of the empire state building at night"
   ]
  },
  {
   "cell_type": "code",
   "execution_count": 26,
   "metadata": {},
   "outputs": [],
   "source": [
    "q = 'empire state building at midnight'\n",
    "PARAMS = STARTING_PARAMS.copy()"
   ]
  },
  {
   "cell_type": "code",
   "execution_count": 27,
   "metadata": {},
   "outputs": [],
   "source": [
    "new_params = {\n",
    "    'imageType' : 'Photo',\n",
    "    'aspect' : 'tall'\n",
    "}"
   ]
  },
  {
   "cell_type": "code",
   "execution_count": 28,
   "metadata": {},
   "outputs": [],
   "source": [
    "images = get_images(q, custom_params=new_params)"
   ]
  },
  {
   "cell_type": "code",
   "execution_count": 29,
   "metadata": {},
   "outputs": [
    {
     "name": "stdout",
     "output_type": "stream",
     "text": [
      "http://media-cdn.tripadvisor.com/media/photo-s/05/40/fd/79/empire-state-building.jpg\n"
     ]
    },
    {
     "data": {
      "text/html": [
       "<img src=\"http://media-cdn.tripadvisor.com/media/photo-s/05/40/fd/79/empire-state-building.jpg\"/>"
      ],
      "text/plain": [
       "<IPython.core.display.Image object>"
      ]
     },
     "execution_count": 29,
     "metadata": {},
     "output_type": "execute_result"
    }
   ],
   "source": [
    "print(images[1])\n",
    "display(images[1])"
   ]
  },
  {
   "cell_type": "markdown",
   "metadata": {},
   "source": [
    "Simple enough. "
   ]
  },
  {
   "cell_type": "markdown",
   "metadata": {},
   "source": [
    "#### Blue Pandas"
   ]
  },
  {
   "cell_type": "markdown",
   "metadata": {},
   "source": [
    "Now I want blue a drawing of an adorable panda bear."
   ]
  },
  {
   "cell_type": "code",
   "execution_count": 30,
   "metadata": {},
   "outputs": [],
   "source": [
    "PARAMS = STARTING_PARAMS.copy()\n",
    "q = 'panda bear drawing'\n",
    "even_newer_params = {\n",
    "    'color' : 'Blue',\n",
    "    'size' : 'Wallpaper'\n",
    "}"
   ]
  },
  {
   "cell_type": "code",
   "execution_count": 31,
   "metadata": {},
   "outputs": [],
   "source": [
    "images = get_images(q, custom_params=even_newer_params)"
   ]
  },
  {
   "cell_type": "code",
   "execution_count": 32,
   "metadata": {},
   "outputs": [
    {
     "data": {
      "text/html": [
       "<img src=\"http://wallpapercave.com/wp/0lxe7EV.jpg\"/>"
      ],
      "text/plain": [
       "<IPython.core.display.Image object>"
      ]
     },
     "execution_count": 32,
     "metadata": {},
     "output_type": "execute_result"
    }
   ],
   "source": [
    "display(images[0])"
   ]
  },
  {
   "cell_type": "markdown",
   "metadata": {},
   "source": [
    "Blue? Check. Panda Bear? Check. Adorable? I mean at least while I'm running it: Check.\n",
    "\n",
    "Now let's get some metadata about the image:"
   ]
  },
  {
   "cell_type": "code",
   "execution_count": 33,
   "metadata": {},
   "outputs": [],
   "source": [
    "params_i_want = ['height', 'width', 'contentSize', 'accentColor']"
   ]
  },
  {
   "cell_type": "code",
   "execution_count": 34,
   "metadata": {},
   "outputs": [],
   "source": [
    "dataz = get_metadata(q, custom_params=even_newer_params, metadata_types=params_i_want)"
   ]
  },
  {
   "cell_type": "code",
   "execution_count": 35,
   "metadata": {},
   "outputs": [
    {
     "name": "stdout",
     "output_type": "stream",
     "text": [
      "The image above is 1080px tall, 1920px wide, its size is 99479 B, and its dominant color is #638E3D.\n"
     ]
    }
   ],
   "source": [
    "print('The image above is {}px tall, {}px wide, its size is {}, and its dominant color is #{}.'.format(*dataz[0]))"
   ]
  },
  {
   "cell_type": "markdown",
   "metadata": {},
   "source": [
    "now let's get a thumbnail:"
   ]
  },
  {
   "cell_type": "code",
   "execution_count": 37,
   "metadata": {},
   "outputs": [],
   "source": [
    "thumbs = ['thumbnailUrl']"
   ]
  },
  {
   "cell_type": "code",
   "execution_count": 38,
   "metadata": {},
   "outputs": [
    {
     "data": {
      "text/html": [
       "<img src=\"https://tse2.mm.bing.net/th?id=OIP.AXCSS097qEDx2CXpWMtXVwHaEK&pid=Api\"/>"
      ],
      "text/plain": [
       "<IPython.core.display.Image object>"
      ]
     },
     "execution_count": 38,
     "metadata": {},
     "output_type": "execute_result"
    }
   ],
   "source": [
    "thumb_urls = get_metadata(q, custom_params=even_newer_params, metadata_types=thumbs)\n",
    "display(thumb_urls[0])"
   ]
  },
  {
   "cell_type": "markdown",
   "metadata": {},
   "source": [
    "Move on to the Image insights Notebook"
   ]
  }
 ],
 "metadata": {
  "kernelspec": {
   "display_name": "Python 3",
   "language": "python",
   "name": "python3"
  },
  "language_info": {
   "codemirror_mode": {
    "name": "ipython",
    "version": 3
   },
   "file_extension": ".py",
   "mimetype": "text/x-python",
   "name": "python",
   "nbconvert_exporter": "python",
   "pygments_lexer": "ipython3",
   "version": "3.7.3"
  }
 },
 "nbformat": 4,
 "nbformat_minor": 2
}
