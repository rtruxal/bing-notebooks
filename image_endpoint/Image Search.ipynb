{
 "cells": [
  {
   "cell_type": "markdown",
   "metadata": {},
   "source": [
    "# URL Params for the Image-Specific Endpoint"
   ]
  },
  {
   "cell_type": "markdown",
   "metadata": {},
   "source": [
    "If you've used the Bing Search APIs before, you may be familiar with the `responseFilter=Images` URL parameter. This is useful if you **only** have access to the websearch endpoint. However, if you have access to the image endpoint, you can use a much richer set of filters to get the pictures you're looking for. "
   ]
  },
  {
   "cell_type": "markdown",
   "metadata": {},
   "source": [
    "## Setup:"
   ]
  },
  {
   "cell_type": "code",
   "execution_count": 1,
   "metadata": {},
   "outputs": [],
   "source": [
    "import os\n",
    "import requests\n",
    "from IPython.display import Image"
   ]
  },
  {
   "cell_type": "code",
   "execution_count": 2,
   "metadata": {},
   "outputs": [],
   "source": [
    "API_KEY = os.environ.get('BING_KEY', default='ENTER YOUR API KEY HERE IF YOU DIDNT SET BING_KEY')"
   ]
  },
  {
   "cell_type": "code",
   "execution_count": 3,
   "metadata": {},
   "outputs": [],
   "source": []
  },
  {
   "cell_type": "code",
   "execution_count": 4,
   "metadata": {},
   "outputs": [
    {
     "name": "stdout",
     "output_type": "stream",
     "text": [
      "c0468feee246448ca66e2fe9aa940772\n"
     ]
    }
   ],
   "source": [
    "print(API_KEY)"
   ]
  },
  {
   "cell_type": "code",
   "execution_count": 5,
   "metadata": {},
   "outputs": [],
   "source": [
    "ENDPOINT = ' https://api.cognitive.microsoft.com/bing/v7.0/images/search?'\n",
    "HEADERS = {\n",
    "    'Ocp-Apim-Subscription-Key' : API_KEY\n",
    "}\n",
    "STARTING_PARAMS = {\n",
    "    \"q\" : None,\n",
    "    \"mkt\" : \"en-US\",\n",
    "    \"offset\" : \"0\",\n",
    "  }"
   ]
  },
  {
   "cell_type": "code",
   "execution_count": 6,
   "metadata": {},
   "outputs": [],
   "source": [
    "# Common accross all notebooks - \n",
    "def call_api(query, session=None, custom_params=None):\n",
    "    sesh = session\n",
    "    if not session:\n",
    "        sesh = requests.Session()\n",
    "        sesh.params = PARAMS\n",
    "        sesh.params.update({'q' : query})\n",
    "        sesh.headers = HEADERS\n",
    "    if custom_params:\n",
    "        sesh.params.update(custom_params)\n",
    "    return sesh.get(ENDPOINT)\n",
    "\n",
    "def handle_response(resp):\n",
    "    assert resp.status_code == 200\n",
    "    return resp.json()"
   ]
  },
  {
   "cell_type": "code",
   "execution_count": 7,
   "metadata": {},
   "outputs": [],
   "source": [
    "# Common accross image-centric notebooks - \n",
    "def extract_img_urls(response_json):\n",
    "    return [i['contentUrl'] for i in response_json['value']]\n",
    "\n",
    "def display(img):\n",
    "    return Image(url=img)"
   ]
  },
  {
   "cell_type": "markdown",
   "metadata": {},
   "source": [
    "## Exploring params of the Image-Specific search endpoint:"
   ]
  },
  {
   "cell_type": "markdown",
   "metadata": {},
   "source": [
    "#### Ex 1: Square drawing of a red car that's free to share commercially"
   ]
  },
  {
   "cell_type": "markdown",
   "metadata": {},
   "source": [
    "First, let's get a copy of our default URL param dictionary, & just do a normal search for images of red cars."
   ]
  },
  {
   "cell_type": "code",
   "execution_count": 8,
   "metadata": {},
   "outputs": [],
   "source": [
    "q = 'red car'\n",
    "PARAMS = STARTING_PARAMS.copy()"
   ]
  },
  {
   "cell_type": "markdown",
   "metadata": {},
   "source": [
    "Simple enough. The functions above will ask for pictures of `'red car'`s and give us back some URLs. Let's create a function that ties the three helper functions above together:"
   ]
  },
  {
   "cell_type": "code",
   "execution_count": 9,
   "metadata": {},
   "outputs": [],
   "source": [
    "def get_images(q, session=None, custom_params=None):\n",
    "    resp = call_api(q, session=session, custom_params=custom_params)\n",
    "    json = handle_response(resp)\n",
    "    return extract_img_urls(json)"
   ]
  },
  {
   "cell_type": "markdown",
   "metadata": {},
   "source": [
    "Now it's easy for us to get images from Bing using a simple search term:"
   ]
  },
  {
   "cell_type": "code",
   "execution_count": 10,
   "metadata": {},
   "outputs": [],
   "source": [
    "images = get_images(q)"
   ]
  },
  {
   "cell_type": "markdown",
   "metadata": {},
   "source": [
    "And voila!"
   ]
  },
  {
   "cell_type": "code",
   "execution_count": 11,
   "metadata": {},
   "outputs": [
    {
     "data": {
      "text/html": [
       "<img src=\"https://usercontent2.hubstatic.com/14028087_f1024.jpg\"/>"
      ],
      "text/plain": [
       "<IPython.core.display.Image object>"
      ]
     },
     "execution_count": 11,
     "metadata": {},
     "output_type": "execute_result"
    }
   ],
   "source": [
    "display(images[0])"
   ]
  },
  {
   "cell_type": "markdown",
   "metadata": {},
   "source": [
    "If you `display()` all the images in `images`, you'll notice that they are mostly real photos. Let's say we're looking for **drawings** of red cars."
   ]
  },
  {
   "cell_type": "markdown",
   "metadata": {},
   "source": [
    "Since we're using the image-specific API endpoint, we can pass in params like `'imageType'`"
   ]
  },
  {
   "cell_type": "code",
   "execution_count": 12,
   "metadata": {},
   "outputs": [],
   "source": [
    "new_param = {'imageType' : 'Clipart'}\n",
    "images = get_images(q, custom_params=new_param)"
   ]
  },
  {
   "cell_type": "code",
   "execution_count": 13,
   "metadata": {},
   "outputs": [
    {
     "data": {
      "text/html": [
       "<img src=\"http://www.clker.com/cliparts/a/4/D/r/O/l/red-car-bug-hi.png\"/>"
      ],
      "text/plain": [
       "<IPython.core.display.Image object>"
      ]
     },
     "execution_count": 13,
     "metadata": {},
     "output_type": "execute_result"
    }
   ],
   "source": [
    "display(images[0])"
   ]
  },
  {
   "cell_type": "markdown",
   "metadata": {},
   "source": [
    "Ok cool. But now let's pretend I'm looking for images to use in my website & need one that's a perfect square. "
   ]
  },
  {
   "cell_type": "code",
   "execution_count": 14,
   "metadata": {},
   "outputs": [],
   "source": [
    "new_new_param = {'aspect' : 'square'}\n",
    "images = get_images(q, custom_params=new_new_param)"
   ]
  },
  {
   "cell_type": "code",
   "execution_count": 15,
   "metadata": {},
   "outputs": [
    {
     "data": {
      "text/html": [
       "<img src=\"http://content.mycutegraphics.com/graphics/car/red-car.png\"/>"
      ],
      "text/plain": [
       "<IPython.core.display.Image object>"
      ]
     },
     "execution_count": 15,
     "metadata": {},
     "output_type": "execute_result"
    }
   ],
   "source": [
    "display(images[0])"
   ]
  },
  {
   "cell_type": "code",
   "execution_count": 16,
   "metadata": {},
   "outputs": [
    {
     "data": {
      "text/html": [
       "<img src=\"https://image.freepik.com/free-vector/red-car_23-2147515196.jpg\"/>"
      ],
      "text/plain": [
       "<IPython.core.display.Image object>"
      ]
     },
     "execution_count": 16,
     "metadata": {},
     "output_type": "execute_result"
    }
   ],
   "source": [
    "display(images[-1])"
   ]
  },
  {
   "cell_type": "markdown",
   "metadata": {},
   "source": [
    "Oh no! That last one looks super-proprietary. I'd like also to only find images that are ok for me to use commercially."
   ]
  },
  {
   "cell_type": "code",
   "execution_count": 17,
   "metadata": {},
   "outputs": [],
   "source": [
    "newer_params = {\n",
    "    'license' : 'ShareCommercially'\n",
    "}\n",
    "images = get_images(q, custom_params=newer_params)"
   ]
  },
  {
   "cell_type": "code",
   "execution_count": 18,
   "metadata": {},
   "outputs": [
    {
     "name": "stdout",
     "output_type": "stream",
     "text": [
      "https://images.vexels.com/media/users/3/127817/isolated/lists/4fd0c9dcae60a9a63579b9b6853eeb09-glossy-retro-beetle-car.png\n"
     ]
    },
    {
     "data": {
      "text/html": [
       "<img src=\"https://images.vexels.com/media/users/3/127817/isolated/lists/4fd0c9dcae60a9a63579b9b6853eeb09-glossy-retro-beetle-car.png\"/>"
      ],
      "text/plain": [
       "<IPython.core.display.Image object>"
      ]
     },
     "execution_count": 18,
     "metadata": {},
     "output_type": "execute_result"
    }
   ],
   "source": [
    "print(images[1])\n",
    "display(images[1])"
   ]
  },
  {
   "cell_type": "markdown",
   "metadata": {},
   "source": [
    "Note that, while useful for free-content aggregation, certain license params can reduce the number of relevant results."
   ]
  },
  {
   "cell_type": "markdown",
   "metadata": {},
   "source": [
    "For example, we're now looking for square & non-photographic images of `'red car'`s which their owners have manually tagged as \"free to use commercially.\" Let's see what happens when I try to add `{'size' : 'large'}`:"
   ]
  },
  {
   "cell_type": "code",
   "execution_count": 19,
   "metadata": {},
   "outputs": [],
   "source": [
    "newest_params = {\n",
    "    'size' : 'large'\n",
    "}\n",
    "images = get_images(q, custom_params=newest_params)"
   ]
  },
  {
   "cell_type": "code",
   "execution_count": 20,
   "metadata": {},
   "outputs": [
    {
     "data": {
      "text/html": [
       "<img src=\"http://opentextbc.ca/abealf1/wp-content/uploads/sites/83/2015/07/poppy-32120_640.png\"/>"
      ],
      "text/plain": [
       "<IPython.core.display.Image object>"
      ]
     },
     "execution_count": 20,
     "metadata": {},
     "output_type": "execute_result"
    }
   ],
   "source": [
    "display(images[0])"
   ]
  },
  {
   "cell_type": "markdown",
   "metadata": {},
   "source": [
    "#### Pictures of People"
   ]
  },
  {
   "cell_type": "markdown",
   "metadata": {},
   "source": [
    "Let's find large faceshots of people smiling."
   ]
  },
  {
   "cell_type": "code",
   "execution_count": 21,
   "metadata": {},
   "outputs": [],
   "source": [
    "q = 'happy'\n",
    "PARAMS = STARTING_PARAMS.copy()"
   ]
  },
  {
   "cell_type": "code",
   "execution_count": 22,
   "metadata": {},
   "outputs": [],
   "source": [
    "new_params = {\n",
    "    'size' : 'Large',\n",
    "    'imageType' : 'Photo',\n",
    "    'imageContent' : 'Face' \n",
    "}"
   ]
  },
  {
   "cell_type": "code",
   "execution_count": 23,
   "metadata": {},
   "outputs": [],
   "source": [
    "images = get_images(q, custom_params=new_params)"
   ]
  },
  {
   "cell_type": "code",
   "execution_count": 24,
   "metadata": {},
   "outputs": [
    {
     "name": "stdout",
     "output_type": "stream",
     "text": [
      "http://i.huffpost.com/gen/1600476/images/o-HAPPY-CHILD-facebook.jpg\n"
     ]
    },
    {
     "data": {
      "text/html": [
       "<img src=\"http://i.huffpost.com/gen/1600476/images/o-HAPPY-CHILD-facebook.jpg\"/>"
      ],
      "text/plain": [
       "<IPython.core.display.Image object>"
      ]
     },
     "execution_count": 24,
     "metadata": {},
     "output_type": "execute_result"
    }
   ],
   "source": [
    "print(images[0])\n",
    "display(images[0])"
   ]
  },
  {
   "cell_type": "markdown",
   "metadata": {},
   "source": [
    "#### The Empire State Building"
   ]
  },
  {
   "cell_type": "markdown",
   "metadata": {},
   "source": [
    "Let's find a tall photo of the empire state building at night"
   ]
  },
  {
   "cell_type": "code",
   "execution_count": 25,
   "metadata": {},
   "outputs": [],
   "source": [
    "q = 'empire state building at midnight'\n",
    "PARAMS = STARTING_PARAMS.copy()"
   ]
  },
  {
   "cell_type": "code",
   "execution_count": 26,
   "metadata": {},
   "outputs": [],
   "source": [
    "new_params = {\n",
    "    'imageType' : 'Photo',\n",
    "    'aspect' : 'tall'\n",
    "}"
   ]
  },
  {
   "cell_type": "code",
   "execution_count": 27,
   "metadata": {},
   "outputs": [],
   "source": [
    "images = get_images(q, custom_params=new_params)"
   ]
  },
  {
   "cell_type": "code",
   "execution_count": 28,
   "metadata": {},
   "outputs": [
    {
     "name": "stdout",
     "output_type": "stream",
     "text": [
      "https://2i7bfq1hqqte46nlrr2zpr7h-wpengine.netdna-ssl.com/wp-content/uploads/2017/04/DSC_0007.jpg\n"
     ]
    },
    {
     "data": {
      "text/html": [
       "<img src=\"https://2i7bfq1hqqte46nlrr2zpr7h-wpengine.netdna-ssl.com/wp-content/uploads/2017/04/DSC_0007.jpg\"/>"
      ],
      "text/plain": [
       "<IPython.core.display.Image object>"
      ]
     },
     "execution_count": 28,
     "metadata": {},
     "output_type": "execute_result"
    }
   ],
   "source": [
    "print(images[1])\n",
    "display(images[1])"
   ]
  },
  {
   "cell_type": "code",
   "execution_count": null,
   "metadata": {},
   "outputs": [],
   "source": []
  }
 ],
 "metadata": {
  "kernelspec": {
   "display_name": "Python 3",
   "language": "python",
   "name": "python3"
  },
  "language_info": {
   "codemirror_mode": {
    "name": "ipython",
    "version": 3
   },
   "file_extension": ".py",
   "mimetype": "text/x-python",
   "name": "python",
   "nbconvert_exporter": "python",
   "pygments_lexer": "ipython3",
   "version": "3.7.3"
  }
 },
 "nbformat": 4,
 "nbformat_minor": 2
}
