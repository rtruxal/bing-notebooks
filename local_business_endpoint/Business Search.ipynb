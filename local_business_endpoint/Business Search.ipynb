{
 "cells": [
  {
   "cell_type": "markdown",
   "metadata": {},
   "source": [
    "# Bing Local Business API"
   ]
  },
  {
   "cell_type": "markdown",
   "metadata": {},
   "source": [
    "Be sure to check out them official documentation [here.](https://docs.microsoft.com/en-us/azure/cognitive-services/bing-local-business-search/local-search-reference)   <br>"
   ]
  },
  {
   "cell_type": "markdown",
   "metadata": {},
   "source": [
    "**EXTREMELY IMPORTANT NOTE:**\n",
    "There is no \"Bing local business\" API in the Azure portal. You need a **Bing Search v7 API** subscription from https://portal.azure.com to use the local business endpoint, and you need to select the **S10 pricing tier**.  \n",
    "\n",
    "If you don't, nothing will work and you'll probably get really frustrated."
   ]
  },
  {
   "cell_type": "markdown",
   "metadata": {},
   "source": [
    "# Index\n",
    "- [Setup](#Setup)\n",
    "- [Search Business Listings with a Query](#Search-Business-Listings-with-a-Query)\n",
    "- [Paging](#Paging)\n",
    "- [Search Business Listings Categorically](#Search-Business-Listings-Categorically)"
   ]
  },
  {
   "cell_type": "markdown",
   "metadata": {},
   "source": [
    "## Setup"
   ]
  },
  {
   "cell_type": "markdown",
   "metadata": {},
   "source": [
    "#### _Imports & Constants_:"
   ]
  },
  {
   "cell_type": "code",
   "execution_count": 1,
   "metadata": {},
   "outputs": [],
   "source": [
    "import requests\n",
    "import os\n",
    "from pprint import pprint\n",
    "from localbusiness_functions import *"
   ]
  },
  {
   "cell_type": "code",
   "execution_count": 2,
   "metadata": {},
   "outputs": [],
   "source": [
    "API_KEY = os.environ.get('BING_KEY', default='ENTER YOUR API KEY HERE IF YOU DIDNT SET BING_KEY')"
   ]
  },
  {
   "cell_type": "code",
   "execution_count": 3,
   "metadata": {},
   "outputs": [],
   "source": [
    "API_KEY = '637700676f0742e6a688ceeead973fe9'"
   ]
  },
  {
   "cell_type": "code",
   "execution_count": 4,
   "metadata": {},
   "outputs": [],
   "source": [
    "BASE = 'https://api.cognitive.microsoft.com/bing/v7.0/'\n",
    "SUFFIX = 'localbusinesses/search?'\n",
    "ENDPOINT = BASE + SUFFIX"
   ]
  },
  {
   "cell_type": "code",
   "execution_count": 5,
   "metadata": {},
   "outputs": [],
   "source": [
    "STARTING_HEADERS = {\n",
    "    'Ocp-Apim-Subscription-Key' : API_KEY\n",
    "}\n",
    "STARTING_PARAMS = {\n",
    "    \"q\" : None,\n",
    "    \"mkt\" : \"en-US\",\n",
    "    \"offset\" : \"0\",\n",
    "    \"count\" : \"50\"\n",
    "  }\n",
    "\n",
    "HEADERS = STARTING_HEADERS.copy()\n",
    "PARAMS = STARTING_PARAMS.copy()"
   ]
  },
  {
   "cell_type": "markdown",
   "metadata": {},
   "source": [
    "#### _Functions_:"
   ]
  },
  {
   "cell_type": "code",
   "execution_count": 6,
   "metadata": {},
   "outputs": [],
   "source": [
    "# Common accross all notebooks - \n",
    "def call_api(query, session=None, custom_params=None, check_session=False):\n",
    "    sesh = session\n",
    "    if not session:\n",
    "        sesh = requests.Session()\n",
    "        sesh.params = STARTING_PARAMS.copy()\n",
    "        sesh.params.update({'q' : query})\n",
    "        sesh.headers = STARTING_HEADERS.copy()\n",
    "    if custom_params:\n",
    "        sesh.params.update(custom_params)\n",
    "    if check_session:\n",
    "        return (sesh.params, sesh.headers)\n",
    "    return sesh.get(ENDPOINT)\n",
    "\n",
    "def handle_response(resp):\n",
    "    assert resp.status_code == 200\n",
    "    return resp.json()"
   ]
  },
  {
   "cell_type": "code",
   "execution_count": 7,
   "metadata": {},
   "outputs": [],
   "source": [
    "# restating a few parsers. These can also be found in .localbusiness_functions.py\n",
    "def get_listings(json):\n",
    "    return [i for i in json['places']['value']]\n",
    "\n",
    "def get_names(json):\n",
    "    return [i['name'] for i in json['places']['value']]\n",
    "\n",
    "def get_cities(json):\n",
    "    return [i['address']['addressLocality'] for i in json['places']['value']]"
   ]
  },
  {
   "cell_type": "code",
   "execution_count": 8,
   "metadata": {},
   "outputs": [],
   "source": [
    "# misc\n",
    "def get_tem(json):\n",
    "    return json['places']['totalEstimatedMatches']\n",
    "\n",
    "def dedupe(some_list):\n",
    "    return list(set(some_list))"
   ]
  },
  {
   "cell_type": "code",
   "execution_count": 9,
   "metadata": {},
   "outputs": [],
   "source": [
    "# output adapters\n",
    "def full_output(json):\n",
    "    return get_listings(json)\n",
    "\n",
    "def summarized_output(json):\n",
    "    return list(zip(get_names(json), get_cities(json)))"
   ]
  },
  {
   "cell_type": "code",
   "execution_count": 10,
   "metadata": {},
   "outputs": [],
   "source": [
    "# helpers\n",
    "def get_json_from_bing(q, session=None, custom_params=None):\n",
    "    resp = call_api(q, session=session, custom_params=custom_params)\n",
    "    json = handle_response(resp)\n",
    "    return json\n",
    "\n",
    "def get_business_listings(q, session=None, custom_params=None, summarized=True):\n",
    "    json = get_json_from_bing(q=q, session=session, custom_params=custom_params)\n",
    "    if not summarized:\n",
    "        return full_output(json)\n",
    "    return summarized_output(json)\n",
    "\n",
    "def get_total_estimated_matches(q, session=None, custom_params=None):\n",
    "    json = get_json_from_bing(q, session=session, custom_params=custom_params)\n",
    "    return get_tem(json)\n",
    "    \n",
    "def check_session(q, session=None, custom_params=None):\n",
    "    return call_api(q, session=session, custom_params=custom_params, check_session=True)"
   ]
  },
  {
   "cell_type": "markdown",
   "metadata": {},
   "source": [
    "# Search Business Listings with a Query"
   ]
  },
  {
   "cell_type": "markdown",
   "metadata": {},
   "source": [
    "This way of using the local business endpoint mirrors the typical search API experience. \n",
    "\n",
    "Let's start with something simple:"
   ]
  },
  {
   "cell_type": "code",
   "execution_count": 11,
   "metadata": {},
   "outputs": [],
   "source": [
    "q = 'grocery store Seattle'"
   ]
  },
  {
   "cell_type": "markdown",
   "metadata": {},
   "source": [
    "And that's pretty much all we need. let's quickly check our headers and params."
   ]
  },
  {
   "cell_type": "code",
   "execution_count": 12,
   "metadata": {},
   "outputs": [
    {
     "name": "stdout",
     "output_type": "stream",
     "text": [
      "{'count': '50', 'mkt': 'en-US', 'offset': '0', 'q': 'grocery store Seattle'}\n",
      "\n",
      "\n",
      "{'Ocp-Apim-Subscription-Key': '637700676f0742e6a688ceeead973fe9'}\n"
     ]
    }
   ],
   "source": [
    "params, headers = check_session(q)\n",
    "pprint(params)\n",
    "print('\\n')\n",
    "pprint(headers)"
   ]
  },
  {
   "cell_type": "markdown",
   "metadata": {},
   "source": [
    "Double check that you see the correct `q` value within your `params` dictionary above, and that your `headers` contains a valid API key."
   ]
  },
  {
   "cell_type": "code",
   "execution_count": 13,
   "metadata": {},
   "outputs": [
    {
     "name": "stdout",
     "output_type": "stream",
     "text": [
      "[('Kress IGA Supermarket', 'Seattle'),\n",
      " ('Uwajimaya', 'Seattle'),\n",
      " ('Pike Grocery', 'Seattle'),\n",
      " ('Paris Grocery', 'Seattle'),\n",
      " ('Yesler Grocery', 'Seattle'),\n",
      " (\"Dan's Belltown Grocery\", 'Seattle'),\n",
      " (\"Lyon's Grocery\", 'Seattle'),\n",
      " ('Stockbox Neighborhood Grocery', 'Seattle'),\n",
      " ('Grocery Outlet Bargain Market', 'Seattle'),\n",
      " ('Market Grocery & Deli', 'Seattle'),\n",
      " (\"Wally's Grocery\", 'Seattle'),\n",
      " ('Semiras Grocery', 'Seattle'),\n",
      " (\"Noah's Grocery\", 'Seattle'),\n",
      " ('Rotary Grocery', 'Seattle'),\n",
      " ('Grocery Outlet Bargain Market', 'Seattle'),\n",
      " ('Grocery Outlet Bargain Market', 'Seattle'),\n",
      " (\"Han's Deli & Grocery\", 'Seattle'),\n",
      " ('Mexican Grocery', 'Seattle'),\n",
      " ('Grocery Outlet Bargain Market', 'Seattle'),\n",
      " ('Cowen Park Grocery', 'Seattle'),\n",
      " ('Grocery Outlet Bargain Market', 'Seattle'),\n",
      " ('Vientian Asian Grocery', 'Seattle'),\n",
      " ('New Seasons Market', 'Seattle'),\n",
      " ('Grocery Outlet Bargain Market', 'Seattle'),\n",
      " ('Pacific Herb & Grocery', 'Seattle'),\n",
      " ('Union Park Grocery & Deli', 'Seattle'),\n",
      " ('City Market', 'Seattle'),\n",
      " ('Drexel Deli & Grocery', 'Seattle'),\n",
      " ('Durn Good Grocery', 'Seattle'),\n",
      " ('Metropolitan Market', 'Seattle'),\n",
      " ('Cone & Steiner', 'Seattle'),\n",
      " ('Community Grocery & Deli', 'Seattle'),\n",
      " ('PCC Community Markets - Co-op Office', 'Seattle'),\n",
      " (\"Trader Joe's\", 'Seattle'),\n",
      " ('Amazon Go', 'Seattle'),\n",
      " ('Golden Hong Market', 'Seattle'),\n",
      " ('Whole Foods Market', 'Seattle'),\n",
      " ('Viet-Wah Supermarket', 'Seattle'),\n",
      " (\"Fishermen's Green Market & Deli\", 'Seattle'),\n",
      " ('Central Co-op', 'Seattle'),\n",
      " (\"Clay's Market\", 'Seattle'),\n",
      " (\"Frank's Quality Produce\", 'Seattle'),\n",
      " ('El Mercado Latino', 'Seattle'),\n",
      " ('West Edge Market', 'Seattle'),\n",
      " ('Montlake Boulevard Market', 'Seattle'),\n",
      " ('R & M Videos & Music', 'Seattle'),\n",
      " (\"Big John's PFI\", 'Seattle'),\n",
      " ('Union Station Market', 'Seattle')]\n",
      "48 businesses returned with this query\n"
     ]
    }
   ],
   "source": [
    "listings = get_business_listings(q)\n",
    "pprint(listings)\n",
    "print('{} businesses returned with this query'.format(len(listings)))"
   ]
  },
  {
   "cell_type": "markdown",
   "metadata": {},
   "source": [
    "The output you're seeing is summarized to give you a high-level view of the entities being returned. Let's take a look at what a full listing looks like:"
   ]
  },
  {
   "cell_type": "code",
   "execution_count": 45,
   "metadata": {},
   "outputs": [
    {
     "name": "stdout",
     "output_type": "stream",
     "text": [
      "{'_type': 'LocalBusiness',\n",
      " 'address': {'addressCountry': 'US',\n",
      "             'addressLocality': 'Seattle',\n",
      "             'addressRegion': 'WA',\n",
      "             'neighborhood': 'Downtown',\n",
      "             'postalCode': '98104',\n",
      "             'streetAddress': '600 5th Ave S',\n",
      "             'text': '600 5th Ave S, Seattle, WA, 98104'},\n",
      " 'entityPresentationInfo': {'entityScenario': 'ListItem',\n",
      "                            'entityTypeHints': ['Place', 'LocalBusiness']},\n",
      " 'geo': {'latitude': 47.596839904785156, 'longitude': -122.3270034790039},\n",
      " 'id': 'https://api.cognitive.microsoft.com/api/v7/#Places.0',\n",
      " 'name': 'Uwajimaya',\n",
      " 'routablePoint': {'latitude': 47.596839904785156,\n",
      "                   'longitude': -122.3270034790039},\n",
      " 'telephone': '(206) 624-6248',\n",
      " 'url': 'https://www.uwajimaya.com/stores/seattle'}\n"
     ]
    }
   ],
   "source": [
    "full_listings = get_business_listings(q, summarized=False)\n",
    "pprint(full_listings[0])"
   ]
  },
  {
   "cell_type": "markdown",
   "metadata": {},
   "source": [
    "# Paging"
   ]
  },
  {
   "cell_type": "markdown",
   "metadata": {},
   "source": [
    "The local business API is an offshot of a major public search engine and it's still in preview, so pagination might be a bit tricky. Let's take a look at our returned `totalEstimatedMatches` (tem) value:"
   ]
  },
  {
   "cell_type": "code",
   "execution_count": null,
   "metadata": {},
   "outputs": [],
   "source": [
    "total_estimated_matches = get_total_estimated_matches(q)\n",
    "\n",
    "print('Bing says there are {} listings that match our query'.format(total_estimated_matches))\n",
    "print('Our list currently has {} listings.'.format(len(listings)))"
   ]
  },
  {
   "cell_type": "markdown",
   "metadata": {},
   "source": [
    "There's no telling which of the numbers above will be bigger. Bing might say there are less possible matches than it gave you, it might say there are more than it was willing to return, or it might tell you that you've been handed exactly as many listings as exist."
   ]
  },
  {
   "cell_type": "markdown",
   "metadata": {},
   "source": [
    "When the `totalEstimatedMatches` figure is <100, it is generally not to be trusted.  It's worth paging to the next set of results to see if we can extend our list."
   ]
  },
  {
   "cell_type": "markdown",
   "metadata": {},
   "source": [
    "let's increment our `offset` url param & try again:"
   ]
  },
  {
   "cell_type": "code",
   "execution_count": null,
   "metadata": {},
   "outputs": [],
   "source": [
    "before = len(listings)"
   ]
  },
  {
   "cell_type": "code",
   "execution_count": null,
   "metadata": {},
   "outputs": [],
   "source": [
    "new_params = {'offset' : str(len(listings)), 'count': \"50\"}\n",
    "listings += get_business_listings(q, custom_params=new_params)\n",
    "listings = dedupe(listings)#<==This is a simple way to make sure we don't accept duplicates, however it does not preserve ordering."
   ]
  },
  {
   "cell_type": "code",
   "execution_count": null,
   "metadata": {},
   "outputs": [],
   "source": [
    "after = len(listings)"
   ]
  },
  {
   "cell_type": "markdown",
   "metadata": {},
   "source": [
    "Let's check out our results:"
   ]
  },
  {
   "cell_type": "code",
   "execution_count": null,
   "metadata": {},
   "outputs": [],
   "source": [
    "pprint(listings)\n",
    "print()\n",
    "print('Previously had {} listings, added {} new ones for {} current listings. Bing says {} listings exist'.format(before, after - before, after, total_estimated_matches))"
   ]
  },
  {
   "cell_type": "markdown",
   "metadata": {},
   "source": [
    "How you define your stop condition for pagination is up to you. This section is merely meant to put emphasis on the word **estimate** in `totalEstimatedMatches`."
   ]
  },
  {
   "cell_type": "markdown",
   "metadata": {},
   "source": [
    "# Search Business Listings Categorically"
   ]
  },
  {
   "cell_type": "markdown",
   "metadata": {},
   "source": [
    "Within this folder you'll find a python file called [local_business_categories.py](./local_business_categories.py), which contains a list of possible values for the 'localCategories' url param (as of June 2019.) Refer to [the official docs](https://docs.microsoft.com/en-us/azure/cognitive-services/bing-local-business-search/local-categories) for an up to date list. "
   ]
  },
  {
   "cell_type": "code",
   "execution_count": 14,
   "metadata": {},
   "outputs": [],
   "source": [
    "from local_business_categories import MAIN_CATEGORIES"
   ]
  },
  {
   "cell_type": "code",
   "execution_count": 15,
   "metadata": {},
   "outputs": [
    {
     "name": "stdout",
     "output_type": "stream",
     "text": [
      "['EatDrink',\n",
      " 'SeeDo',\n",
      " 'Shop',\n",
      " 'HotelsAndMotels',\n",
      " 'BanksAndCreditUnions',\n",
      " 'Parking',\n",
      " 'Hospitals']\n"
     ]
    }
   ],
   "source": [
    "pprint(MAIN_CATEGORIES)"
   ]
  },
  {
   "cell_type": "markdown",
   "metadata": {},
   "source": [
    "We can use one of these instead of our normal `q` param."
   ]
  },
  {
   "cell_type": "code",
   "execution_count": 16,
   "metadata": {},
   "outputs": [],
   "source": [
    "# null out q and set category/location\n",
    "q = ''\n",
    "newer_params = {'localCategories' : MAIN_CATEGORIES[-1]}# AKA {'localCategories' : 'Hospitals'}"
   ]
  },
  {
   "cell_type": "markdown",
   "metadata": {},
   "source": [
    "In fact, `q` needs to be an empty string when searching categorically."
   ]
  },
  {
   "cell_type": "markdown",
   "metadata": {},
   "source": [
    "Just to be overly explicit & anal, note we had two pieces of information in our `q` value from the previous section: \"grocery store Seattle\"\n",
    " - A type of business (\"Grocery Store\")\n",
    " - A location (\"Seattle\")\n",
    "\n",
    "Now we're looking for hospitals, and the `{'localCategories' : 'Hospitals',` line above takes care of that for us. \n",
    "\n",
    "**However,** We have not specified a location yet. Unless we want Bing to infer location based on our IP address, we will need to use another url param: `localCircularView`."
   ]
  },
  {
   "cell_type": "code",
   "execution_count": 17,
   "metadata": {},
   "outputs": [
    {
     "name": "stdout",
     "output_type": "stream",
     "text": [
      "{'localCategories': 'Hospitals', 'localCircularView': '47.6421,-122.13715,5000'}\n"
     ]
    }
   ],
   "source": [
    "newer_params.update({'localCircularView' : '47.6421,-122.13715,5000'})\n",
    "pprint(newer_params)"
   ]
  },
  {
   "cell_type": "markdown",
   "metadata": {},
   "source": [
    "The `'localCircularView'` param draws a circle using a coordinate and a radius. The param takes 3 comma-separated arguments:\n",
    " - Latitude of center point\n",
    " - Longitude of center point\n",
    " - Radius (in meters,) AKA the distance from the center point within which we want to search."
   ]
  },
  {
   "cell_type": "code",
   "execution_count": 18,
   "metadata": {},
   "outputs": [
    {
     "name": "stdout",
     "output_type": "stream",
     "text": [
      "lat:47.6421°\n",
      "long:-122.13715°\n",
      "radius:5000m\n"
     ]
    }
   ],
   "source": [
    "print('lat:{}°\\nlong:{}°\\nradius:{}m'.format(*newer_params['localCircularView'].split(',')))"
   ]
  },
  {
   "cell_type": "markdown",
   "metadata": {},
   "source": [
    "Adding this^ to our existing set of params will define a categorical query for hospitals within 5000 meters of the point 46.6421 by -112.13715. \n",
    "\n",
    "For sanity's sake, let's take a quick look at the full list of our url params:"
   ]
  },
  {
   "cell_type": "code",
   "execution_count": 19,
   "metadata": {},
   "outputs": [
    {
     "name": "stdout",
     "output_type": "stream",
     "text": [
      "{'count': '50',\n",
      " 'localCategories': 'Hospitals',\n",
      " 'localCircularView': '47.6421,-122.13715,5000',\n",
      " 'mkt': 'en-US',\n",
      " 'offset': '0',\n",
      " 'q': ''}\n"
     ]
    }
   ],
   "source": [
    "pprint(check_session(q, custom_params=newer_params)[0])"
   ]
  },
  {
   "cell_type": "markdown",
   "metadata": {},
   "source": [
    "I'm going to say it one more time: **`q` MUST BE AN EMPTY STRING WHEN SEARCHING CATEGORICALLY**. If it isn't, or if you omit it completely, you won't get any results.\n",
    "\n",
    "Let's try it out:"
   ]
  },
  {
   "cell_type": "code",
   "execution_count": 20,
   "metadata": {},
   "outputs": [
    {
     "name": "stdout",
     "output_type": "stream",
     "text": [
      "[('Overlake Medical Center', 'Bellevue'),\n",
      " ('Overlake Medical Center & Clinics', 'Bellevue'),\n",
      " ('Overlake Radiation Oncology', 'Bellevue'),\n",
      " ('Overlake Breast Health Center', 'Bellevue'),\n",
      " ('Overlake Medical Center - Senior Health Clinic', 'Bellevue'),\n",
      " ('Overlake Hospital Cancer Center Oncology', 'Bellevue'),\n",
      " ('Overlake Clinics - Pelvic Health', 'Bellevue'),\n",
      " ('Overlake Hospital Cancer Center Mammography and Breast Health Center',\n",
      "  'Bellevue'),\n",
      " ('Pacific Medical Systems Inc', 'Bellevue'),\n",
      " ('Kaiser Permanente', 'Bellevue'),\n",
      " (\"Seattle Children's Bellevue Clinic and Surgery Center\", 'Bellevue'),\n",
      " ('Overlake Breast Screening Center – Bellevue', 'Bellevue'),\n",
      " ('Dermatology Arts', 'Bellevue'),\n",
      " ('Surgical Specialists At Overlake', 'Bellevue'),\n",
      " ('Bellevue Plastic Surgeons', 'Bellevue'),\n",
      " ('Kindred at Home', 'Bellevue'),\n",
      " ('Swedish Emergency Room - Redmond', 'Redmond'),\n",
      " ('Redmond Urgent Care', 'Redmond'),\n",
      " ('Swedish Express Care at Walgreens - Bellevue', 'Bellevue')]\n",
      "19 businesses returned with this query\n"
     ]
    }
   ],
   "source": [
    "listings = get_business_listings(q, custom_params=newer_params)\n",
    "pprint(listings)\n",
    "print('{} businesses returned with this query'.format(len(listings)))"
   ]
  },
  {
   "cell_type": "markdown",
   "metadata": {},
   "source": [
    "Awesome. Let's increment our offset & see if that's all of them."
   ]
  },
  {
   "cell_type": "code",
   "execution_count": 21,
   "metadata": {},
   "outputs": [],
   "source": [
    "total_estimated_matches = get_total_estimated_matches(q, custom_params=newer_params)\n",
    "before = len(listings)"
   ]
  },
  {
   "cell_type": "code",
   "execution_count": 22,
   "metadata": {},
   "outputs": [],
   "source": [
    "newer_params.update({'offset' : str(len(listings))})\n",
    "listings += get_business_listings(q, custom_params=newer_params)\n",
    "listings = dedupe(listings)"
   ]
  },
  {
   "cell_type": "code",
   "execution_count": 23,
   "metadata": {},
   "outputs": [],
   "source": [
    "after = len(listings)"
   ]
  },
  {
   "cell_type": "code",
   "execution_count": 24,
   "metadata": {},
   "outputs": [
    {
     "name": "stdout",
     "output_type": "stream",
     "text": [
      "Previously had 19 listings, added 0 new ones for 19 current listings. Bing says 0 listings exist\n"
     ]
    }
   ],
   "source": [
    "print('Previously had {} listings, added {} new ones for {} current listings. Bing says {} listings exist'.format(before, after - before, after, total_estimated_matches))"
   ]
  },
  {
   "cell_type": "markdown",
   "metadata": {},
   "source": [
    "#### Zooming Out"
   ]
  },
  {
   "cell_type": "markdown",
   "metadata": {},
   "source": [
    "Finally, let's zoom out and see if we can get more hospitals using a bigger radius value. Previously we used `newer_params.update({'localCircularView' : '47.6421,-122.13715,5000'})` to specify the `localCircularView` param, but rewriting this compound value over and over again is going to be annoying.\n",
    "\n",
    "Another helper function:"
   ]
  },
  {
   "cell_type": "code",
   "execution_count": 25,
   "metadata": {},
   "outputs": [],
   "source": [
    "def get_lcv_param(lat, long, rad):\n",
    "    return ','.join([str(lat), str(long), str(rad)])"
   ]
  },
  {
   "cell_type": "code",
   "execution_count": 26,
   "metadata": {},
   "outputs": [
    {
     "name": "stdout",
     "output_type": "stream",
     "text": [
      "47.6421,-122.13715,10000\n"
     ]
    }
   ],
   "source": [
    "new_lcv = get_lcv_param(47.6421, -122.13715, 10000)\n",
    "print(new_lcv)"
   ]
  },
  {
   "cell_type": "code",
   "execution_count": 27,
   "metadata": {},
   "outputs": [],
   "source": [
    "newer_params.update({'localCircularView' : new_lcv})"
   ]
  },
  {
   "cell_type": "markdown",
   "metadata": {},
   "source": [
    "Let's reset the count and try again:"
   ]
  },
  {
   "cell_type": "code",
   "execution_count": 28,
   "metadata": {},
   "outputs": [],
   "source": [
    "newer_params.update({'offset' : '0'})"
   ]
  },
  {
   "cell_type": "code",
   "execution_count": 29,
   "metadata": {},
   "outputs": [],
   "source": [
    "listings = get_business_listings(q, custom_params=newer_params)"
   ]
  },
  {
   "cell_type": "code",
   "execution_count": 31,
   "metadata": {},
   "outputs": [
    {
     "name": "stdout",
     "output_type": "stream",
     "text": [
      "[('Overlake Medical Center', 'Bellevue'),\n",
      " ('Pacific Medical Center', 'Kirkland'),\n",
      " ('Overlake Medical Center & Clinics', 'Bellevue'),\n",
      " ('Overlake Breast Health Center', 'Bellevue'),\n",
      " ('Overlake Radiation Oncology', 'Bellevue'),\n",
      " (\"Seattle Children's Bellevue Clinic and Surgery Center\", 'Bellevue'),\n",
      " ('Overlake Hospital Cancer Center Mammography and Breast Health Center',\n",
      "  'Bellevue'),\n",
      " ('EvergreenHealth Family Maternity Center', 'Kirkland'),\n",
      " ('Overlake Hospital Cancer Center Oncology', 'Bellevue'),\n",
      " ('Overlake Medical Center - Senior Health Clinic', 'Bellevue'),\n",
      " ('Overlake Clinics - Pelvic Health', 'Bellevue'),\n",
      " ('EvergreenHealth Hospice Care', 'Kirkland'),\n",
      " ('EvergreenHealth Heart Care', 'Kirkland'),\n",
      " ('Kaiser Permanente', 'Bellevue'),\n",
      " ('EvergreenHealth Sleep Services', 'Kirkland'),\n",
      " ('Overlake Breast Screening Center – Bellevue', 'Bellevue'),\n",
      " ('Pacific Medical Systems Inc', 'Bellevue'),\n",
      " ('EvergreenHealth Maternal-Fetal Medicine', 'Kirkland'),\n",
      " ('Fairfax Hospital', 'Kirkland'),\n",
      " ('Surgical Specialists At Overlake', 'Bellevue'),\n",
      " ('Dermatology Arts', 'Bellevue'),\n",
      " ('EvergreenHealth Kirkland', 'Kirkland'),\n",
      " ('Swedish Emergency Room - Redmond', 'Redmond'),\n",
      " ('EvergreenHealth Cancer Care', 'Kirkland'),\n",
      " (\"Booth Gardner Parkinson's Care Center\", 'Kirkland'),\n",
      " ('EvergreenHealth Colon and Rectal Care', 'Kirkland'),\n",
      " ('EvergreenHealth Hand Surgery', 'Kirkland'),\n",
      " ('Evergreen Hospital Medical Center Maternity', 'Kirkland'),\n",
      " ('Bellevue Plastic Surgeons', 'Bellevue'),\n",
      " ('EvergreenHealth Diagnostic Imaging - EvergreenHealth Medical Center',\n",
      "  'Kirkland'),\n",
      " ('Blu-Med Response Systems', 'Kirkland'),\n",
      " ('Kindred at Home', 'Bellevue'),\n",
      " ('EvergreenHealth Signature Care', 'Kirkland'),\n",
      " ('Tania Tiburcio, ARNP', 'Kirkland'),\n",
      " ('Swedish Express Care at Walgreens - Bellevue', 'Bellevue'),\n",
      " ('Redmond Urgent Care', 'Redmond')]\n",
      "\n",
      "36 businesses returned with this query\n"
     ]
    }
   ],
   "source": [
    "pprint(listings)\n",
    "print()\n",
    "print('{} businesses returned with this query'.format(len(listings)))"
   ]
  },
  {
   "cell_type": "code",
   "execution_count": null,
   "metadata": {},
   "outputs": [],
   "source": []
  }
 ],
 "metadata": {
  "kernelspec": {
   "display_name": "Python 3",
   "language": "python",
   "name": "python3"
  },
  "language_info": {
   "codemirror_mode": {
    "name": "ipython",
    "version": 3
   },
   "file_extension": ".py",
   "mimetype": "text/x-python",
   "name": "python",
   "nbconvert_exporter": "python",
   "pygments_lexer": "ipython3",
   "version": "3.7.3"
  }
 },
 "nbformat": 4,
 "nbformat_minor": 2
}
