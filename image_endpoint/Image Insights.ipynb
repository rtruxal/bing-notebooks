{
 "cells": [
  {
   "cell_type": "markdown",
   "metadata": {},
   "source": [
    "# Getting Image Details with The Image-Specific Insights Endpoint"
   ]
  },
  {
   "cell_type": "markdown",
   "metadata": {},
   "source": [
    "The image insights endpoint is an _extremely_ feature-rich service that you can use to:\n",
    " - Crop images\n",
    " - Get contextual information\n",
    " - Load provided [**modules**](https://docs.microsoft.com/en-us/rest/api/cognitiveservices/bing-images-api-v7-reference#modulesrequested)"
   ]
  },
  {
   "cell_type": "markdown",
   "metadata": {},
   "source": [
    "## Setup:"
   ]
  },
  {
   "cell_type": "code",
   "execution_count": 2,
   "metadata": {},
   "outputs": [],
   "source": [
    "import os\n",
    "import requests\n",
    "from IPython.display import Image"
   ]
  },
  {
   "cell_type": "code",
   "execution_count": 1,
   "metadata": {},
   "outputs": [],
   "source": [
    "red_car = 'https://images.vexels.com/media/users/3/139430/isolated/lists/c193c57fb78e4976d2c0d3df094dbe16-race-car-racing.png'\n",
    "human_face = 'http://i.huffpost.com/gen/1600476/images/o-HAPPY-CHILD-facebook.jpg'\n",
    "empire_state = 'http://abcnews.go.com/images/US/HT_empire_state_building_jt_10207.jpg'"
   ]
  },
  {
   "cell_type": "code",
   "execution_count": 3,
   "metadata": {},
   "outputs": [],
   "source": [
    "API_KEY = os.environ.get('BING_KEY', default='ENTER YOUR API KEY HERE IF YOU DIDNT SET BING_KEY')"
   ]
  },
  {
   "cell_type": "code",
   "execution_count": 30,
   "metadata": {},
   "outputs": [],
   "source": [
    "##  Image Insights Endpoint  ################################################\n",
    "ENDPOINT = ' https://api.cognitive.microsoft.com/bing/v7.0/images/details?'\n",
    "#############################################################################\n",
    "STARTING_HEADERS = {\n",
    "    'Ocp-Apim-Subscription-Key' : API_KEY\n",
    "}\n",
    "STARTING_PARAMS = {\n",
    "    \"q\" : None,\n",
    "    \"mkt\" : \"en-US\",\n",
    "    \"offset\" : \"0\",\n",
    "  }\n",
    "HEADERS = STARTING_HEADERS.copy()\n",
    "PARAMS = STARTING_PARAMS.copy()"
   ]
  },
  {
   "cell_type": "markdown",
   "metadata": {},
   "source": [
    "#### Important Note!\n",
    "Since we're not searching, we need to modify our `STARTING_PARAMS` & `call_api()` function to take an image url as its first parameter, not a query."
   ]
  },
  {
   "cell_type": "code",
   "execution_count": 31,
   "metadata": {},
   "outputs": [],
   "source": [
    "# Getting rid of the query param\n",
    "del STARTING_PARAMS['q']\n",
    "\n",
    "# (mostly) Common accross all notebooks - \n",
    "def call_api(img_url, session=None, custom_params=None, custom_headers=None):\n",
    "    sesh = session\n",
    "    if not session:\n",
    "        sesh = requests.Session()\n",
    "        sesh.params = PARAMS\n",
    "        sesh.params.update({'imgUrl' : img_url})\n",
    "        sesh.headers = HEADERS\n",
    "    if custom_params:\n",
    "        sesh.params.update(custom_params)\n",
    "    if custom_headers:\n",
    "        sesh.headers.update(custom_headers)\n",
    "    return sesh.get(ENDPOINT)\n",
    "\n",
    "def handle_response(resp):\n",
    "    assert resp.status_code == 200\n",
    "    return resp.json()"
   ]
  },
  {
   "cell_type": "code",
   "execution_count": 11,
   "metadata": {},
   "outputs": [],
   "source": [
    "# Common accross image-centric notebooks - \n",
    "def extract_img_urls(response_json):\n",
    "    return [i['contentUrl'] for i in response_json['value']]\n",
    "\n",
    "def display(img):\n",
    "    return Image(url=img)"
   ]
  },
  {
   "cell_type": "markdown",
   "metadata": {},
   "source": [
    "## Cropping"
   ]
  },
  {
   "cell_type": "markdown",
   "metadata": {},
   "source": [
    "_Note: please leave an issue if any of these image URLs are no longer valid!!!_"
   ]
  },
  {
   "cell_type": "markdown",
   "metadata": {},
   "source": [
    "The following image of a person's face has some extra space that takes up about 1/3 of the image width on the right-hand side:"
   ]
  },
  {
   "cell_type": "code",
   "execution_count": 19,
   "metadata": {},
   "outputs": [],
   "source": [
    "PARAMS = STARTING_PARAMS.copy()"
   ]
  },
  {
   "cell_type": "code",
   "execution_count": 12,
   "metadata": {},
   "outputs": [
    {
     "data": {
      "text/html": [
       "<img src=\"http://i.huffpost.com/gen/1600476/images/o-HAPPY-CHILD-facebook.jpg\"/>"
      ],
      "text/plain": [
       "<IPython.core.display.Image object>"
      ]
     },
     "execution_count": 12,
     "metadata": {},
     "output_type": "execute_result"
    }
   ],
   "source": [
    "display(human_face)"
   ]
  },
  {
   "cell_type": "markdown",
   "metadata": {},
   "source": [
    "Let's fix that using the insights API. Below, `car` refers to right-cropping, but you can specify `cab` (bottom) `cal` (left) or `cat` (top)."
   ]
  },
  {
   "cell_type": "code",
   "execution_count": 14,
   "metadata": {},
   "outputs": [],
   "source": []
  },
  {
   "cell_type": "code",
   "execution_count": 20,
   "metadata": {},
   "outputs": [],
   "source": []
  },
  {
   "cell_type": "code",
   "execution_count": 32,
   "metadata": {},
   "outputs": [],
   "source": [
    "imgfile = {'media' : open('img\\o-LAUGHING-KID-facebook.jpg', 'rb')}\n",
    "new_heads = {'Content-Type' : 'multipart/form-data'}\n",
    "new_params = {'car' : '0.66'}\n",
    "sesh = requests.Session()\n",
    "sesh.params = PARAMS\n",
    "sesh.headers = HEADERS"
   ]
  },
  {
   "cell_type": "code",
   "execution_count": 33,
   "metadata": {},
   "outputs": [],
   "source": [
    "sesh.params.update(new_params)\n",
    "sesh.headers.update(new_heads)"
   ]
  },
  {
   "cell_type": "code",
   "execution_count": 34,
   "metadata": {},
   "outputs": [],
   "source": [
    "resp = sesh.post(ENDPOINT, imgfile)"
   ]
  },
  {
   "cell_type": "code",
   "execution_count": 35,
   "metadata": {},
   "outputs": [
    {
     "data": {
      "text/plain": [
       "<Response [404]>"
      ]
     },
     "execution_count": 35,
     "metadata": {},
     "output_type": "execute_result"
    }
   ],
   "source": [
    "resp"
   ]
  },
  {
   "cell_type": "code",
   "execution_count": null,
   "metadata": {},
   "outputs": [],
   "source": []
  }
 ],
 "metadata": {
  "kernelspec": {
   "display_name": "Python 3",
   "language": "python",
   "name": "python3"
  },
  "language_info": {
   "codemirror_mode": {
    "name": "ipython",
    "version": 3
   },
   "file_extension": ".py",
   "mimetype": "text/x-python",
   "name": "python",
   "nbconvert_exporter": "python",
   "pygments_lexer": "ipython3",
   "version": "3.7.3"
  }
 },
 "nbformat": 4,
 "nbformat_minor": 2
}
